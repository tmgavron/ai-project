{
 "cells": [
  {
   "cell_type": "code",
   "execution_count": 33,
   "metadata": {},
   "outputs": [],
   "source": [
    "# Imports:\n",
    "import sklearn\n",
    "from sklearn.model_selection import train_test_split\n",
    "import pandas as pd\n",
    "import matplotlib.pyplot as plt\n",
    "from sklearn.linear_model import LogisticRegression\n",
    "from sklearn.neural_network import MLPClassifier\n",
    "from sklearn.preprocessing import StandardScaler\n",
    "from sklearn.metrics import accuracy_score"
   ]
  },
  {
   "cell_type": "code",
   "execution_count": 34,
   "metadata": {},
   "outputs": [
    {
     "name": "stdout",
     "output_type": "stream",
     "text": [
      "track_genre\n",
      "acoustic       1000\n",
      "alternative    1000\n",
      "electronic     1000\n",
      "emo            1000\n",
      "folk           1000\n",
      "pop            1000\n",
      "rock           1000\n",
      "Name: count, dtype: int64\n"
     ]
    }
   ],
   "source": [
    "# Preprocessing\n",
    "\n",
    "# Load the CSV file into a DataFrame\n",
    "df = pd.read_csv('dataset.csv')\n",
    "\n",
    "# Define the genres you are interested in\n",
    "genre_filter = ['acoustic', 'electronic', 'pop', 'rock', 'folk', 'emo', 'alternative']\n",
    "\n",
    "# Filter the DataFrame to only include rows where the Genre column matches one of the desired genres\n",
    "filtered_df = df[df['track_genre'].isin(genre_filter)]\n",
    "\n",
    "# # Save the filtered DataFrame to a new CSV file\n",
    "# filtered_df.to_csv('filtered_dataset.csv', index=False)\n",
    "\n",
    "# Calculate the distribution of the 'track_genre' column\n",
    "genre_distribution = filtered_df['track_genre'].value_counts()\n",
    "\n",
    "# Print the distribution\n",
    "print(genre_distribution)"
   ]
  },
  {
   "cell_type": "code",
   "execution_count": 48,
   "metadata": {},
   "outputs": [
    {
     "name": "stdout",
     "output_type": "stream",
     "text": [
      "   popularity  duration_ms  explicit  danceability  energy  key  loudness  \\\n",
      "0          73       230666     False         0.676  0.4610    1    -6.746   \n",
      "1          55       149610     False         0.420  0.1660    1   -17.235   \n",
      "2          57       210826     False         0.438  0.3590    0    -9.734   \n",
      "3          71       201933     False         0.266  0.0596    0   -18.515   \n",
      "4          82       198853     False         0.618  0.4430    2    -9.681   \n",
      "\n",
      "   mode  speechiness  acousticness  instrumentalness  liveness  valence  \\\n",
      "0     0       0.1430        0.0322          0.000001    0.3580    0.715   \n",
      "1     1       0.0763        0.9240          0.000006    0.1010    0.267   \n",
      "2     1       0.0557        0.2100          0.000000    0.1170    0.120   \n",
      "3     1       0.0363        0.9050          0.000071    0.1320    0.143   \n",
      "4     1       0.0526        0.4690          0.000000    0.0829    0.167   \n",
      "\n",
      "     tempo  time_signature  track_genre_int  \n",
      "0   87.917               4                1  \n",
      "1   77.489               4                1  \n",
      "2   76.332               4                1  \n",
      "3  181.740               3                1  \n",
      "4  119.949               4                1  \n"
     ]
    }
   ],
   "source": [
    "# Load Training Dataset\n",
    "\n",
    "# Specify the columns to drop\n",
    "# Dropped all unique identifiers + duration, key, mode, and time signature due to low correlation to genre in corr matrix\n",
    "columns_to_drop = ['Unnamed: 0', 'track_id', 'artists', 'album_name', 'track_name']\n",
    "\n",
    "# Remove the specified columns\n",
    "filteredTrainingFrame =  filtered_df.drop(columns=columns_to_drop)\n",
    "\n",
    "# Define the mapping dictionary\n",
    "genre_mapping = { \n",
    "    'acoustic': 1,\n",
    "    'electronic': 2,\n",
    "    'pop': 3,\n",
    "    'rock': 4,\n",
    "    'folk': 5,\n",
    "    'emo': 6,\n",
    "    'alternative': 7\n",
    "    }\n",
    "\n",
    "# Map the track_genre column to integers\n",
    "filteredTrainingFrame['track_genre_int'] = filteredTrainingFrame['track_genre'].map(genre_mapping)\n",
    "\n",
    "filteredTrainingFrame =  filteredTrainingFrame.drop(columns=['track_genre'])\n",
    "print(filteredTrainingFrame.head())\n"
   ]
  },
  {
   "cell_type": "code",
   "execution_count": 49,
   "metadata": {},
   "outputs": [
    {
     "name": "stdout",
     "output_type": "stream",
     "text": [
      "                  popularity  duration_ms  explicit  danceability    energy  \\\n",
      "popularity          1.000000     0.001977  0.098196      0.105412 -0.099522   \n",
      "duration_ms         0.001977     1.000000 -0.184788     -0.156806  0.052405   \n",
      "explicit            0.098196    -0.184788  1.000000      0.194339  0.047545   \n",
      "danceability        0.105412    -0.156806  0.194339      1.000000  0.001293   \n",
      "energy             -0.099522     0.052405  0.047545      0.001293  1.000000   \n",
      "key                -0.028070    -0.005487 -0.007433      0.009245  0.048597   \n",
      "loudness           -0.076680    -0.042588  0.071273      0.007374  0.771924   \n",
      "mode               -0.047615    -0.005177 -0.055635     -0.115342 -0.100148   \n",
      "speechiness         0.054378    -0.109326  0.303518      0.189809  0.148965   \n",
      "acousticness        0.093522    -0.017288 -0.128218     -0.075042 -0.736086   \n",
      "instrumentalness    0.051990     0.111727 -0.078973      0.048200 -0.017824   \n",
      "liveness           -0.038797     0.064110  0.033065     -0.089563  0.199562   \n",
      "valence            -0.156694    -0.071740 -0.010145      0.309647  0.323918   \n",
      "tempo              -0.062744    -0.017663  0.029296     -0.181502  0.173009   \n",
      "time_signature      0.032852    -0.037581  0.060049      0.171488  0.170031   \n",
      "track_genre_int    -0.143327    -0.018077  0.202158     -0.073618  0.238544   \n",
      "\n",
      "                       key  loudness      mode  speechiness  acousticness  \\\n",
      "popularity       -0.028070 -0.076680 -0.047615     0.054378      0.093522   \n",
      "duration_ms      -0.005487 -0.042588 -0.005177    -0.109326     -0.017288   \n",
      "explicit         -0.007433  0.071273 -0.055635     0.303518     -0.128218   \n",
      "danceability      0.009245  0.007374 -0.115342     0.189809     -0.075042   \n",
      "energy            0.048597  0.771924 -0.100148     0.148965     -0.736086   \n",
      "key               1.000000  0.024368 -0.091234     0.032492     -0.051898   \n",
      "loudness          0.024368  1.000000 -0.070478     0.083882     -0.599122   \n",
      "mode             -0.091234 -0.070478  1.000000    -0.117841      0.112948   \n",
      "speechiness       0.032492  0.083882 -0.117841     1.000000     -0.102861   \n",
      "acousticness     -0.051898 -0.599122  0.112948    -0.102861      1.000000   \n",
      "instrumentalness -0.002287 -0.190688 -0.082382    -0.046576     -0.011167   \n",
      "liveness          0.008191  0.140938 -0.016810     0.075718     -0.125822   \n",
      "valence           0.064903  0.225275  0.006037     0.076960     -0.193371   \n",
      "tempo             0.014916  0.137889  0.019051     0.097262     -0.151263   \n",
      "time_signature   -0.011227  0.100794 -0.077398     0.041463     -0.194785   \n",
      "track_genre_int   0.021821  0.194554 -0.021868     0.111871     -0.250961   \n",
      "\n",
      "                  instrumentalness  liveness   valence     tempo  \\\n",
      "popularity                0.051990 -0.038797 -0.156694 -0.062744   \n",
      "duration_ms               0.111727  0.064110 -0.071740 -0.017663   \n",
      "explicit                 -0.078973  0.033065 -0.010145  0.029296   \n",
      "danceability              0.048200 -0.089563  0.309647 -0.181502   \n",
      "energy                   -0.017824  0.199562  0.323918  0.173009   \n",
      "key                      -0.002287  0.008191  0.064903  0.014916   \n",
      "loudness                 -0.190688  0.140938  0.225275  0.137889   \n",
      "mode                     -0.082382 -0.016810  0.006037  0.019051   \n",
      "speechiness              -0.046576  0.075718  0.076960  0.097262   \n",
      "acousticness             -0.011167 -0.125822 -0.193371 -0.151263   \n",
      "instrumentalness          1.000000 -0.022215 -0.194179 -0.003440   \n",
      "liveness                 -0.022215  1.000000  0.055930  0.032810   \n",
      "valence                  -0.194179  0.055930  1.000000  0.058612   \n",
      "tempo                    -0.003440  0.032810  0.058612  1.000000   \n",
      "time_signature            0.028699 -0.000481  0.108939 -0.027839   \n",
      "track_genre_int          -0.155206  0.076643  0.091237  0.036801   \n",
      "\n",
      "                  time_signature  track_genre_int  \n",
      "popularity              0.032852        -0.143327  \n",
      "duration_ms            -0.037581        -0.018077  \n",
      "explicit                0.060049         0.202158  \n",
      "danceability            0.171488        -0.073618  \n",
      "energy                  0.170031         0.238544  \n",
      "key                    -0.011227         0.021821  \n",
      "loudness                0.100794         0.194554  \n",
      "mode                   -0.077398        -0.021868  \n",
      "speechiness             0.041463         0.111871  \n",
      "acousticness           -0.194785        -0.250961  \n",
      "instrumentalness        0.028699        -0.155206  \n",
      "liveness               -0.000481         0.076643  \n",
      "valence                 0.108939         0.091237  \n",
      "tempo                  -0.027839         0.036801  \n",
      "time_signature          1.000000         0.011518  \n",
      "track_genre_int         0.011518         1.000000  \n"
     ]
    }
   ],
   "source": [
    "# Correlation Matrix\n",
    "\n",
    "# Compute the correlation matrix\n",
    "correlation_matrix = filteredTrainingFrame.corr()\n",
    "\n",
    "# Display the correlation matrix\n",
    "print(correlation_matrix)"
   ]
  },
  {
   "cell_type": "code",
   "execution_count": 50,
   "metadata": {},
   "outputs": [
    {
     "name": "stdout",
     "output_type": "stream",
     "text": [
      "Training set size: (5600, 15) (5600,)\n",
      "Testing set size: (1400, 15) (1400,)\n",
      "   popularity  duration_ms  explicit  danceability  energy  key  loudness  \\\n",
      "0          73       230666     False         0.676  0.4610    1    -6.746   \n",
      "1          55       149610     False         0.420  0.1660    1   -17.235   \n",
      "2          57       210826     False         0.438  0.3590    0    -9.734   \n",
      "3          71       201933     False         0.266  0.0596    0   -18.515   \n",
      "4          82       198853     False         0.618  0.4430    2    -9.681   \n",
      "\n",
      "   mode  speechiness  acousticness  instrumentalness  liveness  valence  \\\n",
      "0     0       0.1430        0.0322          0.000001    0.3580    0.715   \n",
      "1     1       0.0763        0.9240          0.000006    0.1010    0.267   \n",
      "2     1       0.0557        0.2100          0.000000    0.1170    0.120   \n",
      "3     1       0.0363        0.9050          0.000071    0.1320    0.143   \n",
      "4     1       0.0526        0.4690          0.000000    0.0829    0.167   \n",
      "\n",
      "     tempo  time_signature  \n",
      "0   87.917               4  \n",
      "1   77.489               4  \n",
      "2   76.332               4  \n",
      "3  181.740               3  \n",
      "4  119.949               4  \n"
     ]
    }
   ],
   "source": [
    "X = filteredTrainingFrame.drop(columns=['track_genre_int'])\n",
    "y = filteredTrainingFrame['track_genre_int']\n",
    "\n",
    "# Split the data into training and testing sets\n",
    "X_train, X_test, y_train, y_test = train_test_split(X, y, test_size=0.2, random_state=42)\n",
    "\n",
    "# Display the sizes of the train and test datasets\n",
    "print(\"Training set size:\", X_train.shape, y_train.shape)\n",
    "print(\"Testing set size:\", X_test.shape, y_test.shape)\n",
    "\n",
    "\n",
    "# Scale the features\n",
    "scaler = StandardScaler()\n",
    "X_train_scaled = scaler.fit_transform(X_train)\n",
    "X_test_scaled = scaler.transform(X_test)\n",
    "\n",
    "print(X.head())"
   ]
  },
  {
   "cell_type": "code",
   "execution_count": 53,
   "metadata": {},
   "outputs": [
    {
     "name": "stdout",
     "output_type": "stream",
     "text": [
      "training logistic regression model...\n",
      "done!\n",
      "getting statistics...\n",
      "Testing Accuracy: \n",
      "0.4328571428571429\n",
      "done!\n"
     ]
    }
   ],
   "source": [
    "# Train Logistic Regression:\n",
    "\n",
    "# Run Logistic Regression Training and Testing\n",
    "    # lr: learning rate (0 to 1.0)\n",
    "    # e: epochs (iterations)\n",
    "lr = 0.2\n",
    "e = 100\n",
    "\n",
    "logreg = LogisticRegression(C=lr, max_iter=e) #, class_weight='balanced')\n",
    "\n",
    "print(\"training logistic regression model...\")\n",
    "logreg.fit(X_train_scaled, y_train)\n",
    "print(\"done!\")\n",
    "\n",
    "# Model Statistics\n",
    "print(\"getting statistics...\")\n",
    "\n",
    "y_trainPred = logreg.predict(X_train_scaled)\n",
    "\n",
    "y_pred = logreg.predict(X_test_scaled)\n",
    "\n",
    "accuracy = accuracy_score(y_test, y_pred)\n",
    "\n",
    "print(\"Testing Accuracy: \")\n",
    "print(accuracy)\n",
    "print(\"done!\")"
   ]
  },
  {
   "cell_type": "code",
   "execution_count": 54,
   "metadata": {},
   "outputs": [
    {
     "name": "stdout",
     "output_type": "stream",
     "text": [
      "Testing Accuracy of the MLP model: 0.60\n"
     ]
    },
    {
     "name": "stderr",
     "output_type": "stream",
     "text": [
      "/Users/trentgavron/Desktop/AI/project/environment/lib/python3.12/site-packages/sklearn/neural_network/_multilayer_perceptron.py:691: ConvergenceWarning: Stochastic Optimizer: Maximum iterations (300) reached and the optimization hasn't converged yet.\n",
      "  warnings.warn(\n"
     ]
    }
   ],
   "source": [
    "# Train MLP\n",
    "# Create an MLP Classifier\n",
    "hiddenL = (100,)\n",
    "e = 300\n",
    "activationFunc = 'relu'\n",
    "\n",
    "mlp = MLPClassifier(hidden_layer_sizes=hiddenL, max_iter=e, activation=activationFunc,\n",
    "                    solver='adam', random_state=1)\n",
    "\n",
    "# Train the MLP\n",
    "mlp.fit(X_train_scaled, y_train)\n",
    "\n",
    "# Predict on the test set\n",
    "y_pred = mlp.predict(X_test_scaled)\n",
    "\n",
    "# Calculate accuracy\n",
    "accuracy = accuracy_score(y_test, y_pred)\n",
    "print(f\"Testing Accuracy of the MLP model: {accuracy:.2f}\")"
   ]
  }
 ],
 "metadata": {
  "kernelspec": {
   "display_name": "environment",
   "language": "python",
   "name": "python3"
  },
  "language_info": {
   "codemirror_mode": {
    "name": "ipython",
    "version": 3
   },
   "file_extension": ".py",
   "mimetype": "text/x-python",
   "name": "python",
   "nbconvert_exporter": "python",
   "pygments_lexer": "ipython3",
   "version": "3.12.2"
  }
 },
 "nbformat": 4,
 "nbformat_minor": 2
}
