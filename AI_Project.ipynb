{
 "cells": [
  {
   "cell_type": "code",
   "execution_count": null,
   "metadata": {},
   "outputs": [],
   "source": [
    "# Imports:\n",
    "import sklearn\n",
    "import pandas as pd\n",
    "import matplotlib.pyplot as plt"
   ]
  },
  {
   "cell_type": "code",
   "execution_count": null,
   "metadata": {},
   "outputs": [],
   "source": [
    "# Preprocessing\n",
    "\n",
    "# Load the CSV file into a DataFrame\n",
    "df = pd.read_csv('dataset.csv')\n",
    "\n",
    "# Define the genres you are interested in\n",
    "# genre_filter = ['acoustic', '']\n",
    "\n",
    "# Filter the DataFrame to only include rows where the Genre column matches one of the desired genres\n",
    "# filtered_df = df[df['track_genre'].isin(genre_filter)]\n",
    "\n",
    "# Calculate the distribution of the 'track_genre' column\n",
    "genre_distribution = df['track_genre'].value_counts()\n",
    "\n",
    "# Print the distribution\n",
    "print(genre_distribution)\n",
    "\n",
    "# Optional: Visualize the distribution\n",
    "genre_distribution.plot(kind='bar')\n",
    "plt.title('Distribution of Track Genres')\n",
    "plt.xlabel('Genre')\n",
    "plt.ylabel('Frequency')\n",
    "plt.show()\n",
    "\n",
    "# Display the filtered DataFrame\n",
    "# print(filtered_df)\n",
    "\n",
    "# Optional: Save the filtered DataFrame to a new CSV file\n",
    "# filtered_df.to_csv('filtered_file.csv', index=False)"
   ]
  },
  {
   "cell_type": "code",
   "execution_count": null,
   "metadata": {},
   "outputs": [],
   "source": []
  }
 ],
 "metadata": {
  "language_info": {
   "name": "python"
  }
 },
 "nbformat": 4,
 "nbformat_minor": 2
}
