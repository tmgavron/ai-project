{
 "cells": [
  {
   "cell_type": "code",
   "execution_count": 17,
   "metadata": {},
   "outputs": [],
   "source": [
    "# Imports:\n",
    "import sklearn\n",
    "from sklearn.model_selection import train_test_split\n",
    "import pandas as pd\n",
    "import matplotlib.pyplot as plt\n",
    "from sklearn.linear_model import LogisticRegression\n",
    "from sklearn.metrics import accuracy_score"
   ]
  },
  {
   "cell_type": "code",
   "execution_count": 7,
   "metadata": {},
   "outputs": [
    {
     "name": "stdout",
     "output_type": "stream",
     "text": [
      "track_genre\n",
      "acoustic       1000\n",
      "alternative    1000\n",
      "electronic     1000\n",
      "emo            1000\n",
      "folk           1000\n",
      "pop            1000\n",
      "rock           1000\n",
      "Name: count, dtype: int64\n"
     ]
    }
   ],
   "source": [
    "# Preprocessing\n",
    "\n",
    "# Load the CSV file into a DataFrame\n",
    "df = pd.read_csv('dataset.csv')\n",
    "\n",
    "# Define the genres you are interested in\n",
    "genre_filter = ['acoustic', 'electronic', 'pop', 'rock', 'folk', 'emo', 'alternative']\n",
    "\n",
    "# Filter the DataFrame to only include rows where the Genre column matches one of the desired genres\n",
    "filtered_df = df[df['track_genre'].isin(genre_filter)]\n",
    "\n",
    "# # Save the filtered DataFrame to a new CSV file\n",
    "# filtered_df.to_csv('filtered_dataset.csv', index=False)\n",
    "\n",
    "# Calculate the distribution of the 'track_genre' column\n",
    "genre_distribution = filtered_df['track_genre'].value_counts()\n",
    "\n",
    "# Print the distribution\n",
    "print(genre_distribution)"
   ]
  },
  {
   "cell_type": "code",
   "execution_count": 9,
   "metadata": {},
   "outputs": [
    {
     "name": "stdout",
     "output_type": "stream",
     "text": [
      "   popularity  duration_ms  explicit  danceability  energy  key  loudness  \\\n",
      "0          73       230666     False         0.676  0.4610    1    -6.746   \n",
      "1          55       149610     False         0.420  0.1660    1   -17.235   \n",
      "2          57       210826     False         0.438  0.3590    0    -9.734   \n",
      "3          71       201933     False         0.266  0.0596    0   -18.515   \n",
      "4          82       198853     False         0.618  0.4430    2    -9.681   \n",
      "\n",
      "   mode  speechiness  acousticness  instrumentalness  liveness  valence  \\\n",
      "0     0       0.1430        0.0322          0.000001    0.3580    0.715   \n",
      "1     1       0.0763        0.9240          0.000006    0.1010    0.267   \n",
      "2     1       0.0557        0.2100          0.000000    0.1170    0.120   \n",
      "3     1       0.0363        0.9050          0.000071    0.1320    0.143   \n",
      "4     1       0.0526        0.4690          0.000000    0.0829    0.167   \n",
      "\n",
      "     tempo  time_signature track_genre  \n",
      "0   87.917               4    acoustic  \n",
      "1   77.489               4    acoustic  \n",
      "2   76.332               4    acoustic  \n",
      "3  181.740               3    acoustic  \n",
      "4  119.949               4    acoustic  \n"
     ]
    }
   ],
   "source": [
    "# Load Training Dataset\n",
    "\n",
    "# Specify the columns to drop\n",
    "columns_to_drop = ['Unnamed: 0', 'track_id', 'artists', 'album_name', 'track_name']\n",
    "\n",
    "# Remove the specified columns\n",
    "filteredTrainingFrame =  filtered_df.drop(columns=columns_to_drop)\n",
    "\n",
    "print(df.head())\n"
   ]
  },
  {
   "cell_type": "code",
   "execution_count": 15,
   "metadata": {},
   "outputs": [
    {
     "name": "stdout",
     "output_type": "stream",
     "text": [
      "Training set size: (5600, 15) (5600,)\n",
      "Testing set size: (1400, 15) (1400,)\n",
      "   popularity  duration_ms  explicit  danceability  energy  key  loudness  \\\n",
      "0          73       230666     False         0.676  0.4610    1    -6.746   \n",
      "1          55       149610     False         0.420  0.1660    1   -17.235   \n",
      "2          57       210826     False         0.438  0.3590    0    -9.734   \n",
      "3          71       201933     False         0.266  0.0596    0   -18.515   \n",
      "4          82       198853     False         0.618  0.4430    2    -9.681   \n",
      "\n",
      "   mode  speechiness  acousticness  instrumentalness  liveness  valence  \\\n",
      "0     0       0.1430        0.0322          0.000001    0.3580    0.715   \n",
      "1     1       0.0763        0.9240          0.000006    0.1010    0.267   \n",
      "2     1       0.0557        0.2100          0.000000    0.1170    0.120   \n",
      "3     1       0.0363        0.9050          0.000071    0.1320    0.143   \n",
      "4     1       0.0526        0.4690          0.000000    0.0829    0.167   \n",
      "\n",
      "     tempo  time_signature  \n",
      "0   87.917               4  \n",
      "1   77.489               4  \n",
      "2   76.332               4  \n",
      "3  181.740               3  \n",
      "4  119.949               4  \n"
     ]
    }
   ],
   "source": [
    "X = filteredTrainingFrame.drop(columns=['track_genre'])\n",
    "y = filteredTrainingFrame['track_genre']\n",
    "\n",
    "# Split the data into training and testing sets\n",
    "X_train, X_test, y_train, y_test = train_test_split(X, y, test_size=0.2, random_state=42)\n",
    "\n",
    "# Display the sizes of the train and test datasets\n",
    "print(\"Training set size:\", X_train.shape, y_train.shape)\n",
    "print(\"Testing set size:\", X_test.shape, y_test.shape)\n",
    "\n",
    "print(X.head())"
   ]
  },
  {
   "cell_type": "code",
   "execution_count": 21,
   "metadata": {},
   "outputs": [
    {
     "name": "stdout",
     "output_type": "stream",
     "text": [
      "training logistic regression model...\n",
      "done!\n",
      "getting statistics...\n",
      "Accuracy: \n",
      "0.29642857142857143\n",
      "done!\n"
     ]
    },
    {
     "name": "stderr",
     "output_type": "stream",
     "text": [
      "/Users/trentgavron/Desktop/AI/project/environment/lib/python3.12/site-packages/sklearn/linear_model/_logistic.py:469: ConvergenceWarning: lbfgs failed to converge (status=1):\n",
      "STOP: TOTAL NO. of ITERATIONS REACHED LIMIT.\n",
      "\n",
      "Increase the number of iterations (max_iter) or scale the data as shown in:\n",
      "    https://scikit-learn.org/stable/modules/preprocessing.html\n",
      "Please also refer to the documentation for alternative solver options:\n",
      "    https://scikit-learn.org/stable/modules/linear_model.html#logistic-regression\n",
      "  n_iter_i = _check_optimize_result(\n"
     ]
    }
   ],
   "source": [
    "# Train Logistic Regression:\n",
    "\n",
    "# Run Logistic Regression Training and Testing\n",
    "    # lr: learning rate (0 to 1.0)\n",
    "    # e: epochs (iterations)\n",
    "lr = 0.2\n",
    "e = 100\n",
    "\n",
    "logreg = LogisticRegression(C=lr, max_iter=e) #, class_weight='balanced')\n",
    "\n",
    "print(\"training logistic regression model...\")\n",
    "logreg.fit(X_train, y_train)\n",
    "print(\"done!\")\n",
    "\n",
    "# Model Statistics\n",
    "print(\"getting statistics...\")\n",
    "\n",
    "y_trainPred = logreg.predict(X_train)\n",
    "\n",
    "y_pred = logreg.predict(X_test)\n",
    "\n",
    "accuracy = accuracy_score(y_test, y_pred)\n",
    "\n",
    "print(\"Accuracy: \")\n",
    "print(accuracy)\n",
    "print(\"done!\")"
   ]
  },
  {
   "cell_type": "code",
   "execution_count": null,
   "metadata": {},
   "outputs": [],
   "source": [
    "# Train MLP"
   ]
  }
 ],
 "metadata": {
  "kernelspec": {
   "display_name": "environment",
   "language": "python",
   "name": "python3"
  },
  "language_info": {
   "codemirror_mode": {
    "name": "ipython",
    "version": 3
   },
   "file_extension": ".py",
   "mimetype": "text/x-python",
   "name": "python",
   "nbconvert_exporter": "python",
   "pygments_lexer": "ipython3",
   "version": "3.12.2"
  }
 },
 "nbformat": 4,
 "nbformat_minor": 2
}
